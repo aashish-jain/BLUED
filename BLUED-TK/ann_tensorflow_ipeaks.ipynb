{
 "cells": [
  {
   "cell_type": "code",
   "execution_count": 2,
   "metadata": {},
   "outputs": [
    {
     "name": "stdout",
     "output_type": "stream",
     "text": [
      "/media/sf_datasets/Smarter Devices/BLUED_extracted/BLUED-TK\n"
     ]
    }
   ],
   "source": [
    "cd /media/sf_datasets/Smarter\\ Devices/BLUED_extracted/BLUED-TK"
   ]
  },
  {
   "cell_type": "code",
   "execution_count": 3,
   "metadata": {
    "collapsed": true
   },
   "outputs": [],
   "source": [
    "import pandas as pd\n",
    "import numpy as np\n",
    "import tensorflow as tf\n",
    "from sklearn.model_selection import train_test_split as tts\n",
    "import sklearn as sk\n",
    "from sklearn.metrics import  classification_report \n",
    "import pylab as pl\n",
    "from imblearn.over_sampling import RandomOverSampler"
   ]
  },
  {
   "cell_type": "code",
   "execution_count": 28,
   "metadata": {},
   "outputs": [
    {
     "name": "stdout",
     "output_type": "stream",
     "text": [
      "Events left after removal of single events 897\n",
      "output devices 9\n"
     ]
    }
   ],
   "source": [
    "#reading the dataframe\n",
    "df=pd.read_table('events/peaks_updated.txt',index_col=0,sep=',')\n",
    "\n",
    "\n",
    "cols=[str(i) for i in range(70)]\n",
    "cols+=['labels','phase']\n",
    "\n",
    "df.columns=cols\n",
    "#finding the single event devices\n",
    "freq=df.groupby('labels').count()\n",
    "single_freq=freq[freq['0']==1].index\n",
    "\n",
    "# printing the values by count\n",
    "# df.groupby('label').count().sort_values(by='features')\n",
    "\n",
    "#eliminating all the single event devices\n",
    "for i in single_freq:\n",
    "    df=(df[df['labels']!=i])\n",
    "\n",
    "df=df[df['phase']=='A']\n",
    "for i in range(0,10):\n",
    "    del df[str(i)]\n",
    "\n",
    "del df['phase']\n",
    "\n",
    "print(\"Events left after removal of single events %d\"%len(df))\n",
    "\n",
    "device_list=df['labels'].unique()\n",
    "print('output devices %s'%len(device_list))"
   ]
  },
  {
   "cell_type": "code",
   "execution_count": 29,
   "metadata": {
    "collapsed": true
   },
   "outputs": [],
   "source": [
    "#convert the dataframe to matrix\n",
    "temp=df.copy()\n",
    "del temp['labels']\n",
    "feature_matrix=temp.as_matrix()\n",
    "labels=np.array(df['labels'])\n",
    "inputs=feature_matrix.shape[1]\n",
    "outputs=len(device_list)\n",
    "total_events=len(df)"
   ]
  },
  {
   "cell_type": "code",
   "execution_count": 30,
   "metadata": {},
   "outputs": [
    {
     "name": "stdout",
     "output_type": "stream",
     "text": [
      "(897, 60) (897,)\n"
     ]
    }
   ],
   "source": [
    "#matrices shape\n",
    "feature_matrix=(feature_matrix-feature_matrix.mean(axis=0))/feature_matrix.var(axis=0)\n",
    "label_matrix=labels\n",
    "print (feature_matrix.shape, label_matrix.shape)\n",
    "\n",
    "#Oversampler\n",
    "# ros = RandomOverSampler(random_state = 42)\n",
    "# feature_matrix, label_matrix= ros.fit_sample(feature_matrix, label_matrix)\n",
    "feature_train, feature_test, label_train, label_test = tts(feature_matrix, label_matrix, test_size=0.3, random_state=42,stratify=label_matrix)\n"
   ]
  },
  {
   "cell_type": "code",
   "execution_count": 31,
   "metadata": {},
   "outputs": [
    {
     "name": "stdout",
     "output_type": "stream",
     "text": [
      "Total events is 897\n"
     ]
    }
   ],
   "source": [
    "\n",
    "def to_onehot(vect):\n",
    "    vect_raw,indicies=np.unique(vect,return_inverse=True)\n",
    "    one_hot_vect=np.zeros((vect.shape[0],vect_raw.shape[0])).astype('int64')\n",
    "    one_hot_vect[np.arange(vect.shape[0]),indicies]=1\n",
    "    return one_hot_vect\n",
    "\n",
    "#convert the oversampled lables to one_hot\n",
    "label_train=to_onehot(label_train)\n",
    "label_test=to_onehot(label_test)\n",
    "\n",
    "print('Total events is %s'%(total_events))"
   ]
  },
  {
   "cell_type": "code",
   "execution_count": 32,
   "metadata": {},
   "outputs": [
    {
     "name": "stdout",
     "output_type": "stream",
     "text": [
      "feature_train.shape=(627, 60) label_train.shape=(627, 9)\n",
      "feature_test.shape=(270, 60) label_test.shape=(270, 9)\n",
      "inputs=60 output=9\n"
     ]
    },
    {
     "data": {
      "text/plain": [
       "array([[  2.54276471e+00,   1.73168255e-01,   8.59905437e-02, ...,\n",
       "          9.52735143e-02,   9.18210790e-02,   9.59028083e-02],\n",
       "       [ -2.86188097e-02,  -3.03868549e-02,   8.43028338e-04, ...,\n",
       "          8.70258857e-02,   8.50286324e-02,   8.61534342e-02],\n",
       "       [  1.68810910e+00,   1.72973396e-01,   8.48886707e-02, ...,\n",
       "          9.26916015e-02,   9.06770319e-02,   9.61916086e-02],\n",
       "       ..., \n",
       "       [ -2.62517818e-02,  -4.18950569e-02,  -3.93115608e-02, ...,\n",
       "         -6.68091903e-02,  -7.11962237e-02,  -6.87523432e-02],\n",
       "       [ -6.53866428e-02,   3.01012150e-02,  -8.85481565e-03, ...,\n",
       "          5.59719583e-02,   5.12096665e-02,   5.63277112e-02],\n",
       "       [ -4.09273547e-02,  -4.27840494e-02,  -3.98271778e-02, ...,\n",
       "         -7.34789570e-02,  -7.35556818e-02,  -7.11355070e-02]])"
      ]
     },
     "execution_count": 32,
     "metadata": {},
     "output_type": "execute_result"
    }
   ],
   "source": [
    "print('feature_train.shape=%s label_train.shape=%s'%(feature_train.shape,label_train.shape)) \n",
    "print('feature_test.shape=%s label_test.shape=%s'%(feature_test.shape,label_test.shape)) \n",
    "print('inputs=%d output=%d'%(inputs,outputs))\n",
    "feature_train"
   ]
  },
  {
   "cell_type": "code",
   "execution_count": 33,
   "metadata": {
    "collapsed": true
   },
   "outputs": [],
   "source": [
    "layer1=200\n",
    "layer2=100\n",
    "\n",
    "\n",
    "x = tf.placeholder(tf.float32, shape=[None, inputs])\n",
    "y = tf.placeholder(tf.float32, shape=[None, outputs])\n",
    "\n",
    "# Store layers weight & bias\n",
    "weights = {\n",
    "    'h1': tf.Variable(tf.random_normal([inputs, layer1])),\n",
    "    'h2' :tf.Variable(tf.random_normal([layer1, layer2])),\n",
    "    'ho' :tf.Variable(tf.random_normal([layer2, outputs])),    \n",
    "}\n",
    "biases = {\n",
    "    'b1': tf.Variable(tf.random_normal([layer1])),\n",
    "    'b2': tf.Variable(tf.random_normal([layer2])),\n",
    "    'out': tf.Variable(tf.random_normal([outputs]))\n",
    "}\n",
    "\n"
   ]
  },
  {
   "cell_type": "code",
   "execution_count": 34,
   "metadata": {
    "collapsed": true
   },
   "outputs": [],
   "source": [
    "#output layer\n",
    "def ann(x,weights,biases):\n",
    "    layer1=tf.add(tf.matmul(x,weights['h1']),biases['b1'])\n",
    "    ac1=tf.nn.sigmoid(layer1)#,0.2)\n",
    "    layer2=tf.add(tf.matmul(ac1, weights['h2']), biases['b2'])\n",
    "    ac2=tf.nn.sigmoid(layer2)#,0.2)\n",
    "    out_layer = tf.add(tf.matmul(ac2, weights['ho']), biases['out'])\n",
    "    return out_layer\n",
    "\n",
    "pred = ann(x, weights, biases)"
   ]
  },
  {
   "cell_type": "code",
   "execution_count": 35,
   "metadata": {
    "collapsed": true
   },
   "outputs": [],
   "source": [
    "def onehot_to_labels(arr,device_list,ismat=True):\n",
    "    new_label=[]\n",
    "    if ismat==True:\n",
    "        x,y=np.where(arr==1)\n",
    "        del x\n",
    "        for i in y:\n",
    "            new_label.append(device_list[i])\n",
    "    else:\n",
    "        for i in arr:\n",
    "            new_label.append(device_list[i])\n",
    "    return new_label"
   ]
  },
  {
   "cell_type": "code",
   "execution_count": 36,
   "metadata": {},
   "outputs": [
    {
     "name": "stdout",
     "output_type": "stream",
     "text": [
      "Cost : 16.1767 : Accuracy:73.333335\n",
      "Cost : 0.488554 : Accuracy:81.111103\n",
      "Cost : 0.416829 : Accuracy:82.222223\n",
      "Cost : 0.377411 : Accuracy:81.851846\n",
      "Cost : 0.330654 : Accuracy:84.074080\n",
      "Cost : 0.295468 : Accuracy:85.925925\n",
      "Cost : 0.261142 : Accuracy:84.074068\n",
      "Cost : 0.241216 : Accuracy:85.185182\n",
      "Cost : 0.216931 : Accuracy:85.555553\n",
      "Cost : 0.1951 : Accuracy:85.555553\n"
     ]
    },
    {
     "name": "stderr",
     "output_type": "stream",
     "text": [
      "/opt/anaconda/anaconda3/lib/python3.6/site-packages/sklearn/metrics/classification.py:1113: UndefinedMetricWarning: Precision and F-score are ill-defined and being set to 0.0 in labels with no predicted samples.\n",
      "  'precision', 'predicted', average, warn_for)\n"
     ]
    }
   ],
   "source": [
    "# Parameters\n",
    "#learning_rate = 0.09\n",
    "training_epochs = 10000\n",
    "display_step = training_epochs/10\n",
    "global_step = tf.Variable(0, trainable=False)\n",
    "starter_learning_rate = 0.7\n",
    "learning_rate = tf.train.exponential_decay(starter_learning_rate, global_step,\n",
    "                                           100000, 0.96, staircase=True)\n",
    "# Define loss and optimizer\n",
    "cost = tf.reduce_mean(tf.nn.softmax_cross_entropy_with_logits(logits=pred, labels=y))\n",
    "optimizer = tf.train.AdagradOptimizer(learning_rate=learning_rate).minimize(cost, global_step = global_step)\n",
    "\n",
    "\n",
    "correct_prediction = tf.equal(tf.argmax(pred, 1), tf.argmax(y, 1))\n",
    "# Calculate accuracy\n",
    "accuracy = tf.reduce_mean(tf.cast(correct_prediction, \"float\"))\n",
    "  \n",
    "\n",
    "# Launch the graph\n",
    "sess = tf.InteractiveSession()\n",
    "\n",
    "y_pred=False\n",
    "with  tf.Session(config=tf.ConfigProto(log_device_placement=True)) as sess:\n",
    "    # Initializing the variables\n",
    "    init = tf.global_variables_initializer()\n",
    "    sess.run(init)\n",
    "\n",
    "    # Training cycle\n",
    "    for epoch in range(training_epochs):\n",
    "        _, c = sess.run([optimizer, cost], feed_dict={x: feature_train,y: label_train})\n",
    "        if not epoch%display_step:\n",
    "            print (\"Cost : \"+str(c)+\" : Accuracy:%f\" %(accuracy.eval({x: feature_test, y: label_test})*100))\n",
    "    y_p = tf.argmax(pred, 1)\n",
    "    val_accuracy, y_pred = sess.run([accuracy, y_p], feed_dict={x:feature_test, y:label_test})\n",
    "    \n",
    "y_pred=onehot_to_labels(y_pred,device_list,ismat=False)\n",
    "y_true=onehot_to_labels(label_test,device_list)\n",
    "report=classification_report(y_pred=y_pred,y_true=y_true, digits = 3)"
   ]
  },
  {
   "cell_type": "code",
   "execution_count": 37,
   "metadata": {},
   "outputs": [
    {
     "name": "stdout",
     "output_type": "stream",
     "text": [
      "             precision    recall  f1-score   support\n",
      "\n",
      "        108      1.000     0.857     0.923         7\n",
      "        111      0.920     0.985     0.951       198\n",
      "        127      0.500     0.286     0.364         7\n",
      "        132      0.800     0.645     0.714        31\n",
      "        147      0.000     0.000     0.000         2\n",
      "        148      0.333     0.385     0.357        13\n",
      "        156      0.167     0.200     0.182         5\n",
      "        158      1.000     0.500     0.667         2\n",
      "        207      1.000     0.200     0.333         5\n",
      "\n",
      "avg / total      0.850     0.856     0.845       270\n",
      "\n"
     ]
    }
   ],
   "source": [
    "print(report)"
   ]
  },
  {
   "cell_type": "code",
   "execution_count": 38,
   "metadata": {},
   "outputs": [
    {
     "name": "stdout",
     "output_type": "stream",
     "text": [
      "[[  6   1   0   0   0   0   0   0   0]\n",
      " [  0 195   0   3   0   0   0   0   0]\n",
      " [  0   0   2   0   0   5   0   0   0]\n",
      " [  0   9   0  20   0   1   1   0   0]\n",
      " [  0   2   0   0   0   0   0   0   0]\n",
      " [  0   1   2   1   0   5   4   0   0]\n",
      " [  0   3   0   1   0   0   1   0   0]\n",
      " [  0   0   0   0   0   1   0   1   0]\n",
      " [  0   1   0   0   0   3   0   0   1]]\n"
     ]
    },
    {
     "data": {
      "image/png": "[encoded data removed]",
      "text/plain": [
       "<matplotlib.figure.Figure at 0x7f50aa20a710>"
      ]
     },
     "metadata": {},
     "output_type": "display_data"
    }
   ],
   "source": [
    "cm=sk.metrics.confusion_matrix(y_true, y_pred)\n",
    "print(cm)\n",
    "pl.matshow(cm)\n",
    "pl.colorbar()\n",
    "pl.show()"
   ]
  },
  {
   "cell_type": "code",
   "execution_count": 39,
   "metadata": {},
   "outputs": [
    {
     "data": {
      "text/plain": [
       "'Device wise manually calculated'"
      ]
     },
     "execution_count": 39,
     "metadata": {},
     "output_type": "execute_result"
    }
   ],
   "source": [
    "'''Device wise manually calculated'''\n",
    "# # Parameters\n",
    "# #learning_rate = 0.09\n",
    "# training_epochs = 5000\n",
    "# display_step = training_epochs/10\n",
    "# global_step = tf.Variable(0, trainable=False)\n",
    "# starter_learning_rate = 0.7\n",
    "# learning_rate = tf.train.exponential_decay(starter_learning_rate, global_step,\n",
    "#                                            100000, 0.96, staircase=True)\n",
    "# # Define loss and optimizer\n",
    "# cost = tf.reduce_mean(tf.nn.softmax_cross_entropy_with_logits(logits=pred, labels=y))\n",
    "# optimizer = tf.train.AdagradOptimizer(learning_rate=learning_rate).minimize(cost, global_step = global_step)\n",
    "\n",
    "\n",
    "# # Launch the graph\n",
    "# sess = tf.InteractiveSession()\n",
    "\n",
    "# with tf.Session() as sess:\n",
    "#     # Initializing the variables\n",
    "#     init = tf.global_variables_initializer()\n",
    "#     sess.run(init)\n",
    "\n",
    "#     # Training cycle\n",
    "#     for epoch in range(training_epochs):\n",
    "#         avg_cost = 0.\n",
    "#         _, c = sess.run([optimizer, cost], feed_dict={x: feature_train,\n",
    "#                                                       y: label_train})\n",
    "#         avg_cost = c \n",
    "#         correct_prediction = tf.equal(tf.argmax(pred, 1), tf.argmax(y, 1))\n",
    "#         # Calculate accuracy\n",
    "#         accuracy = tf.reduce_mean(tf.cast(correct_prediction, \"float\"))\n",
    "#         if not epoch%display_step:\n",
    "#             print (\"Cost : \"+str(c)+\" : Accuracy:%f\" %(accuracy.eval({x: feature_test, y: label_test})*100))\n",
    "\n",
    "#     #  Device-wise efficiency\n",
    "#     c=0\n",
    "#     for label in device_list:\n",
    "#         #take the relevant feature data      \n",
    "#         cond=label_test[:,c]==1\n",
    "#         dev_features=feature_test[cond]\n",
    "#         dev_label=label_test[cond]\n",
    "#         c+=1\n",
    "#         print('Accuracy for %s is %5.3f (%02d events)'%(label,(accuracy.eval({x: dev_features, y: dev_label})*100),len(dev_label)))"
   ]
  },
  {
   "cell_type": "code",
   "execution_count": null,
   "metadata": {
    "collapsed": true
   },
   "outputs": [],
   "source": []
  }
 ],
 "metadata": {
  "kernelspec": {
   "display_name": "Python 3",
   "language": "python",
   "name": "python3"
  },
  "language_info": {
   "codemirror_mode": {
    "name": "ipython",
    "version": 3
   },
   "file_extension": ".py",
   "mimetype": "text/x-python",
   "name": "python",
   "nbconvert_exporter": "python",
   "pygments_lexer": "ipython3",
   "version": "3.6.0"
  }
 },
 "nbformat": 4,
 "nbformat_minor": 2
}
