{
 "cells": [
  {
   "cell_type": "code",
   "execution_count": 1,
   "metadata": {},
   "outputs": [
    {
     "name": "stdout",
     "output_type": "stream",
     "text": [
      "/media/sf_datasets/Smarter Devices/BLUED_extracted/BLUED-TK\n"
     ]
    }
   ],
   "source": [
    "cd /media/sf_datasets/Smarter\\ Devices/BLUED_extracted/BLUED-TK"
   ]
  },
  {
   "cell_type": "code",
   "execution_count": 7,
   "metadata": {
    "collapsed": true
   },
   "outputs": [],
   "source": [
    "import os\n",
    "import numpy as np"
   ]
  },
  {
   "cell_type": "code",
   "execution_count": 3,
   "metadata": {},
   "outputs": [
    {
     "name": "stdout",
     "output_type": "stream",
     "text": [
      "/media/sf_datasets/Smarter Devices/BLUED_extracted/BLUED-TK/events/n_req\n"
     ]
    }
   ],
   "source": [
    "cd events/n_req/"
   ]
  },
  {
   "cell_type": "code",
   "execution_count": 4,
   "metadata": {},
   "outputs": [
    {
     "name": "stdout",
     "output_type": "stream",
     "text": [
      "\u001b[0m\u001b[01;34mdataset_1\u001b[0m/   \u001b[01;34mdataset_13\u001b[0m/  \u001b[01;34mdataset_2\u001b[0m/  \u001b[01;34mdataset_6\u001b[0m/  not_del_peaks_updated_txt\r\n",
      "\u001b[01;34mdataset_10\u001b[0m/  \u001b[01;34mdataset_14\u001b[0m/  \u001b[01;34mdataset_3\u001b[0m/  \u001b[01;34mdataset_7\u001b[0m/  peaks_updated_txt\r\n",
      "\u001b[01;34mdataset_11\u001b[0m/  \u001b[01;34mdataset_15\u001b[0m/  \u001b[01;34mdataset_4\u001b[0m/  \u001b[01;34mdataset_8\u001b[0m/  peaks_updated.txt\r\n",
      "\u001b[01;34mdataset_12\u001b[0m/  \u001b[01;34mdataset_16\u001b[0m/  \u001b[01;34mdataset_5\u001b[0m/  \u001b[01;34mdataset_9\u001b[0m/\r\n"
     ]
    }
   ],
   "source": [
    "ls"
   ]
  },
  {
   "cell_type": "code",
   "execution_count": 5,
   "metadata": {},
   "outputs": [
    {
     "name": "stdout",
     "output_type": "stream",
     "text": [
      "/media/sf_datasets/Smarter Devices/BLUED_extracted/BLUED-TK/events/n_req/dataset_1\n"
     ]
    }
   ],
   "source": [
    "cd dataset_1/"
   ]
  },
  {
   "cell_type": "code",
   "execution_count": 6,
   "metadata": {},
   "outputs": [
    {
     "name": "stdout",
     "output_type": "stream",
     "text": [
      "111_A_12555.083999999999.txt  128_B_25736.534.txt\r\n",
      "111_A_13442.1.txt             128_B_25740.784.txt\r\n",
      "111_A_1408.85.txt             128_B_36431.984.txt\r\n",
      "111_A_16300.1.txt             128_B_38470.417.txt\r\n",
      "111_A_17190.967.txt           128_B_38475.95.txt\r\n",
      "111_A_20051.784.txt           128_B_38479.6.txt\r\n",
      "111_A_20702.85.txt            129_B_21547.6.txt\r\n",
      "111_A_20711.517.txt           129_B_21553.084.txt\r\n",
      "111_A_20716.651.txt           129_B_21555.867000000002.txt\r\n",
      "111_A_20719.867.txt           129_B_30365.183999999997.txt\r\n",
      "111_A_21071.834.txt           129_B_37099.734.txt\r\n",
      "111_A_2347.884.txt            135_B_34086.734.txt\r\n",
      "111_A_23926.234.txt           135_B_34125.617.txt\r\n",
      "111_A_24577.917.txt           140_B_27529.234.txt\r\n",
      "111_A_24585.234.txt           140_B_28262.134.txt\r\n",
      "111_A_24959.683999999997.txt  140_B_28373.617000000002.txt\r\n",
      "111_A_26226.067000000003.txt  140_B_33486.284.txt\r\n",
      "111_A_26234.683999999997.txt  149_B_21487.551.txt\r\n",
      "111_A_27470.234.txt           149_B_27513.667.txt\r\n",
      "111_A_27747.301.txt           149_B_27664.95.txt\r\n",
      "111_A_27755.95.txt            149_B_33435.367.txt\r\n",
      "111_A_28514.45.txt            150_B_23470.767000000003.txt\r\n",
      "111_A_28651.867000000002.txt  150_B_24456.534.txt\r\n",
      "111_A_28658.584.txt           151_B_24485.834.txt\r\n",
      "111_A_29094.95.txt            151_B_28296.1.txt\r\n",
      "111_A_29114.384.txt           152_B_21520.034.txt\r\n",
      "111_A_29169.284.txt           152_B_22888.634.txt\r\n",
      "111_A_29173.867000000002.txt  152_B_24776.817000000003.txt\r\n",
      "111_A_29474.834.txt           152_B_24926.45.txt\r\n",
      "111_A_29482.267000000003.txt  152_B_30327.567000000003.txt\r\n",
      "111_A_29829.2.txt             152_B_33362.384.txt\r\n",
      "111_A_29833.6.txt             152_B_33913.884.txt\r\n",
      "111_A_29849.017000000003.txt  152_B_34172.001000000004.txt\r\n",
      "111_A_29857.251.txt           155_B_20608.034.txt\r\n",
      "111_A_30023.183999999997.txt  155_B_36344.267.txt\r\n",
      "111_A_30036.517000000003.txt  156_A_21358.1.txt\r\n",
      "111_A_30135.417.txt           156_A_21484.884.txt\r\n",
      "111_A_30139.234.txt           156_A_24866.017000000003.txt\r\n",
      "111_A_30149.001.txt           156_A_24898.35.txt\r\n",
      "111_A_30172.634.txt           156_A_33438.034.txt\r\n",
      "111_A_30175.95.txt            156_A_33479.45.txt\r\n",
      "111_A_30210.567000000003.txt  156_A_38493.767.txt\r\n",
      "111_A_30213.917.txt           157_B_20611.784.txt\r\n",
      "111_A_30222.45.txt            157_B_24751.634.txt\r\n",
      "111_A_30225.084.txt           157_B_24770.217.txt\r\n",
      "111_A_31336.017000000003.txt  157_B_24924.017000000003.txt\r\n",
      "111_A_34049.667.txt           157_B_25920.183999999997.txt\r\n",
      "111_A_34976.051.txt           158_A_23563.784.txt\r\n",
      "111_A_36369.551.txt           158_A_24480.284.txt\r\n",
      "111_A_36375.017.txt           158_A_36526.151.txt\r\n",
      "111_A_37463.051.txt           158_A_38509.984.txt\r\n",
      "111_A_38398.334.txt           159_B_21531.95.txt\r\n",
      "111_A_5122.767.txt            159_B_22872.317000000003.txt\r\n",
      "111_A_6035.534000000001.txt   159_B_24787.134.txt\r\n",
      "111_A_8838.85.txt             159_B_24796.034.txt\r\n",
      "111_A_9736.734.txt            159_B_30342.017000000003.txt\r\n",
      "112_B_27700.767000000003.txt  159_B_33351.784.txt\r\n",
      "112_B_33958.617.txt           159_B_33924.901.txt\r\n",
      "118_B_27854.317000000003.txt  159_B_33934.35.txt\r\n",
      "120_B_27526.117000000002.txt  159_B_34054.084.txt\r\n",
      "123_B_21537.484.txt           159_B_34155.167.txt\r\n",
      "123_B_30355.051.txt           159_B_37084.1.txt\r\n",
      "123_B_37089.6.txt             204_B_13641.966999999999.txt\r\n",
      "128_B_20795.651.txt           204_B_13738.6.txt\r\n",
      "128_B_22853.984.txt           204_B_15027.801000000001.txt\r\n",
      "128_B_22859.517000000003.txt  204_B_34487.051.txt\r\n",
      "128_B_22863.167.txt           204_B_35178.417.txt\r\n",
      "128_B_24231.884.txt           204_B_36237.334.txt\r\n",
      "128_B_25731.017000000003.txt\r\n"
     ]
    }
   ],
   "source": [
    "ls"
   ]
  },
  {
   "cell_type": "code",
   "execution_count": 12,
   "metadata": {
    "collapsed": true
   },
   "outputs": [],
   "source": [
    "data = np.loadtxt('111_A_27755.95.txt',delimiter=',')"
   ]
  },
  {
   "cell_type": "code",
   "execution_count": 13,
   "metadata": {},
   "outputs": [
    {
     "name": "stdout",
     "output_type": "stream",
     "text": [
      "(65999,)\n"
     ]
    }
   ],
   "source": [
    "print (data.shape)"
   ]
  },
  {
   "cell_type": "code",
   "execution_count": null,
   "metadata": {
    "collapsed": true
   },
   "outputs": [],
   "source": []
  }
 ],
 "metadata": {
  "kernelspec": {
   "display_name": "Python 3",
   "language": "python",
   "name": "python3"
  },
  "language_info": {
   "codemirror_mode": {
    "name": "ipython",
    "version": 3
   },
   "file_extension": ".py",
   "mimetype": "text/x-python",
   "name": "python",
   "nbconvert_exporter": "python",
   "pygments_lexer": "ipython3",
   "version": "3.6.0"
  }
 },
 "nbformat": 4,
 "nbformat_minor": 2
}
