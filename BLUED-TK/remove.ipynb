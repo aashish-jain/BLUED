{
 "cells": [
  {
   "cell_type": "code",
   "execution_count": 1,
   "metadata": {},
   "outputs": [
    {
     "name": "stdout",
     "output_type": "stream",
     "text": [
      "/media/sf_datasets/Smarter Devices/BLUED_extracted/BLUED-TK\n"
     ]
    }
   ],
   "source": [
    "cd /media/sf_datasets/Smarter\\ Devices/BLUED_extracted/BLUED-TK"
   ]
  },
  {
   "cell_type": "code",
   "execution_count": 2,
   "metadata": {
    "collapsed": true
   },
   "outputs": [],
   "source": [
    "import numpy as np\n",
    "import csv\n",
    "from datetime import datetime\n",
    "import os\n",
    "path = 'final_events/dataset_'\n",
    "y = []"
   ]
  },
  {
   "cell_type": "code",
   "execution_count": 3,
   "metadata": {
    "scrolled": true
   },
   "outputs": [
    {
     "name": "stdout",
     "output_type": "stream",
     "text": [
      "10\n",
      "26\n",
      "10\n",
      "11\n",
      "6\n",
      "6\n",
      "2\n",
      "26\n",
      "6\n",
      "14\n",
      "6\n",
      "4\n",
      "13\n",
      "2\n",
      "8\n",
      "2\n",
      "152\n"
     ]
    }
   ],
   "source": [
    "some = 0\n",
    "for abc in range(1,17):  \n",
    "    count = 0\n",
    "    x = []\n",
    "    anom = []\n",
    "    period1 = []\n",
    "    period = []\n",
    "    files = []\n",
    "    files_temp = os.listdir(path+str(abc)+'/')\n",
    "    for f in files_temp:\n",
    "        if f.split('_')[1] == 'B':\n",
    "            files.append(f)\n",
    "    for i in files:\n",
    "        period1.append(i.split('.')[0].split('_')[2])\n",
    "        period1[count]+='.' + i.split('.')[1]\n",
    "    #         period.append(i.split('_')[2].split('.')[0])\n",
    "    #         print (period[count])\n",
    "        count+=1\n",
    "    for i in period1:\n",
    "        period.append(float(i))\n",
    "    period = sorted(period)\n",
    "    for i in range(1,len(period)):\n",
    "        if float(period[i])-float(period[i-1]) <=1.0:\n",
    "            anom.append(period[i-1])\n",
    "            anom.append(period[i])\n",
    "    #             print (period[i-1])\n",
    "    #             print (period[i])\n",
    "\n",
    "    for i in range(len(anom)):\n",
    "        for f in files:\n",
    "            if str(anom[i]) in f:\n",
    "                if f not in x:\n",
    "                    x.append(f)\n",
    "\n",
    "    print (len(x))\n",
    "    some = some + len(x)\n",
    "\n",
    "#print (x)\n",
    "    for f in x:\n",
    "        if f in files:\n",
    "            os.rename('final_events/dataset_'+str(abc)+'/' + f,'final_events/removed/'+str(abc)+'/'+f)\n",
    "print (some)   \n",
    "\n",
    "\n",
    "\n"
   ]
  },
  {
   "cell_type": "code",
   "execution_count": null,
   "metadata": {
    "collapsed": true
   },
   "outputs": [],
   "source": []
  }
 ],
 "metadata": {
  "anaconda-cloud": {},
  "kernelspec": {
   "display_name": "Python 3",
   "language": "python",
   "name": "python3"
  },
  "language_info": {
   "codemirror_mode": {
    "name": "ipython",
    "version": 3
   },
   "file_extension": ".py",
   "mimetype": "text/x-python",
   "name": "python",
   "nbconvert_exporter": "python",
   "pygments_lexer": "ipython3",
   "version": "3.6.0"
  }
 },
 "nbformat": 4,
 "nbformat_minor": 2
}
