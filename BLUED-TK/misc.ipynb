{
 "cells": [
  {
   "cell_type": "code",
   "execution_count": null,
   "metadata": {},
   "outputs": [],
   "source": [
    "cd /media/sf_datasets/Smarter\\ Devices/BLUED_extracted/BLUED-TK"
   ]
  },
  {
   "cell_type": "code",
   "execution_count": 8,
   "metadata": {},
   "outputs": [],
   "source": [
    "import numpy as np\n",
    "import os\n",
    "# import blued\n",
    "import pandas as pd\n",
    "import matplotlib.pyplot as plt"
   ]
  },
  {
   "cell_type": "code",
   "execution_count": null,
   "metadata": {},
   "outputs": [],
   "source": [
    "datasets_path=sorted(['../'+f+'/' for f in os.listdir('../') if 'dataset' in f])\n",
    "print(datasets_path)"
   ]
  },
  {
   "cell_type": "code",
   "execution_count": null,
   "metadata": {
    "collapsed": true
   },
   "outputs": [],
   "source": []
  },
  {
   "cell_type": "code",
   "execution_count": null,
   "metadata": {},
   "outputs": [],
   "source": [
    "events = pd.read_csv('event_data.csv',sep = '\\t',dtype=blued.event,index_col=0,header=None)[1]"
   ]
  },
  {
   "cell_type": "code",
   "execution_count": null,
   "metadata": {},
   "outputs": [],
   "source": [
    "back=events.sample(15)"
   ]
  },
  {
   "cell_type": "code",
   "execution_count": null,
   "metadata": {
    "collapsed": true
   },
   "outputs": [],
   "source": [
    "events.to_csv('backup.csv',sep = '\\t')'14'"
   ]
  },
  {
   "cell_type": "code",
   "execution_count": null,
   "metadata": {},
   "outputs": [],
   "source": [
    "split = events[0].split(' ')"
   ]
  },
  {
   "cell_type": "code",
   "execution_count": null,
   "metadata": {},
   "outputs": [],
   "source": [
    "split = np.array(split)"
   ]
  },
  {
   "cell_type": "code",
   "execution_count": null,
   "metadata": {},
   "outputs": [],
   "source": [
    "for i in range(len(split)):\n",
    "    print (i, split[i])"
   ]
  },
  {
   "cell_type": "code",
   "execution_count": null,
   "metadata": {},
   "outputs": [],
   "source": [
    "split[8].split('[')[1].split(',')[0]"
   ]
  },
  {
   "cell_type": "code",
   "execution_count": null,
   "metadata": {
    "collapsed": true
   },
   "outputs": [],
   "source": []
  },
  {
   "cell_type": "code",
   "execution_count": null,
   "metadata": {},
   "outputs": [],
   "source": [
    "data_set=0\n",
    "f=3028\n",
    "for i in range(1,17):\n",
    "    if f>blued.file_list[i][0] and f<blued.file_list[i][1]:\n",
    "        data_set=i\n",
    "        print (data_set)"
   ]
  },
  {
   "cell_type": "code",
   "execution_count": null,
   "metadata": {},
   "outputs": [],
   "source": [
    "path=''\n",
    "for p in datasets_path:\n",
    "    if '%003d'%(data_set) in p:\n",
    "        path=p\n",
    "        break"
   ]
  },
  {
   "cell_type": "code",
   "execution_count": null,
   "metadata": {},
   "outputs": [],
   "source": [
    "path"
   ]
  },
  {
   "cell_type": "code",
   "execution_count": 4,
   "metadata": {},
   "outputs": [
    {
     "name": "stdout",
     "output_type": "stream",
     "text": [
      "/media/sf_datasets/Smarter Devices/BLUED_extracted/BLUED-TK/events/dataset_14\n"
     ]
    }
   ],
   "source": [
    "cd /media/sf_datasets/Smarter\\ Devices/BLUED_extracted/BLUED-TK/events/dataset_14"
   ]
  },
  {
   "cell_type": "code",
   "execution_count": 5,
   "metadata": {},
   "outputs": [
    {
     "name": "stdout",
     "output_type": "stream",
     "text": [
      "1109_A_28018.334.txt           128_B_26011.917.txt\r\n",
      "1110_A_28232.0.txt             128_B_31492.717.txt\r\n",
      "1111_A_28949.267000000003.txt  128_B_31498.25.txt\r\n",
      "1112_A_29921.183999999997.txt  128_B_31501.884.txt\r\n",
      "111_A_17571.183999999997.txt   132_A_29762.917.txt\r\n",
      "111_A_18426.067.txt            132_A_29901.351000000002.txt\r\n",
      "111_A_21004.084.txt            134_B_28381.384.txt\r\n",
      "111_A_21872.101000000002.txt   134_B_28434.201.txt\r\n",
      "111_A_24448.951.txt            140_B_29149.984.txt\r\n",
      "111_A_25326.534.txt            140_B_29346.351000000002.txt\r\n",
      "111_A_27892.917.txt            140_B_29355.417.txt\r\n",
      "111_A_28774.167.txt            140_B_29457.584.txt\r\n",
      "111_A_30078.567000000003.txt   149_B_26004.234.txt\r\n",
      "111_A_30104.567000000003.txt   149_B_29999.667.txt\r\n",
      "111_A_30105.25.txt             150_B_28275.801.txt\r\n",
      "111_A_30109.051.txt            150_B_29982.584.txt\r\n",
      "111_A_30823.917.txt            152_B_30035.884.txt\r\n",
      "111_A_31737.75.txt             152_B_30067.051.txt\r\n",
      "111_A_34287.551.txt            152_B_30221.951.txt\r\n",
      "111_A_35160.534.txt            152_B_30292.417.txt\r\n",
      "111_A_37721.134.txt            155_B_30070.65.txt\r\n",
      "111_A_38596.984.txt            155_B_30347.701.txt\r\n",
      "111_A_41168.034.txt            156_A_25889.534.txt\r\n",
      "111_A_42043.984000000004.txt   156_A_26001.334.txt\r\n",
      "111_A_44600.484000000004.txt   156_A_27787.201.txt\r\n",
      "111_A_45478.584.txt            156_A_28923.084.txt\r\n",
      "111_A_48033.384000000005.txt   156_A_28939.567000000003.txt\r\n",
      "111_A_48915.184.txt            156_A_29926.884.txt\r\n",
      "111_A_51487.084.txt            158_A_28939.834.txt\r\n",
      "111_A_52375.9.txt              158_A_29370.267000000003.txt\r\n",
      "111_A_54914.350999999995.txt   204_B_17224.634.txt\r\n",
      "111_A_55794.117.txt            204_B_18247.301.txt\r\n",
      "118_B_26011.9.txt              204_B_28283.65.txt\r\n",
      "118_B_33615.784.txt            207_A_23550.317000000003.txt\r\n",
      "127_A_23550.334.txt            207_A_23569.617000000002.txt\r\n",
      "127_A_23569.601000000002.txt\r\n"
     ]
    }
   ],
   "source": [
    "ls"
   ]
  },
  {
   "cell_type": "code",
   "execution_count": 23,
   "metadata": {},
   "outputs": [],
   "source": [
    "data = np.loadtxt('204_B_17224.634.txt',delimiter=',',skiprows=24)"
   ]
  },
  {
   "cell_type": "code",
   "execution_count": 24,
   "metadata": {
    "collapsed": true
   },
   "outputs": [],
   "source": [
    "l = []\n",
    "for i in data:\n",
    "        l.append(i)"
   ]
  },
  {
   "cell_type": "code",
   "execution_count": 25,
   "metadata": {},
   "outputs": [
    {
     "data": {
      "image/png": "[encoded data removed]",
      "text/plain": [
       "<matplotlib.figure.Figure at 0x7fb28168e3c8>"
      ]
     },
     "metadata": {},
     "output_type": "display_data"
    }
   ],
   "source": [
    "plt.plot(l)\n",
    "plt.show()"
   ]
  },
  {
   "cell_type": "code",
   "execution_count": null,
   "metadata": {},
   "outputs": [],
   "source": [
    "plt.plot(peaks)\n",
    "plt.show()"
   ]
  },
  {
   "cell_type": "code",
   "execution_count": null,
   "metadata": {
    "collapsed": true
   },
   "outputs": [],
   "source": []
  }
 ],
 "metadata": {
  "kernelspec": {
   "display_name": "Python 3",
   "language": "python",
   "name": "python3"
  },
  "language_info": {
   "codemirror_mode": {
    "name": "ipython",
    "version": 3
   },
   "file_extension": ".py",
   "mimetype": "text/x-python",
   "name": "python",
   "nbconvert_exporter": "python",
   "pygments_lexer": "ipython3",
   "version": "3.6.0"
  }
 },
 "nbformat": 4,
 "nbformat_minor": 2
}
