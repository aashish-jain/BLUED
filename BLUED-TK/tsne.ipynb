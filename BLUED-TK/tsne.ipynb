{
 "cells": [
  {
   "cell_type": "code",
   "execution_count": 1,
   "metadata": {},
   "outputs": [
    {
     "ename": "ModuleNotFoundError",
     "evalue": "No module named 'tsne'",
     "output_type": "error",
     "traceback": [
      "\u001b[0;31m---------------------------------------------------------------------------\u001b[0m",
      "\u001b[0;31mModuleNotFoundError\u001b[0m                       Traceback (most recent call last)",
      "\u001b[0;32m<ipython-input-1-b31ad2474596>\u001b[0m in \u001b[0;36m<module>\u001b[0;34m()\u001b[0m\n\u001b[1;32m      3\u001b[0m \u001b[0;32mimport\u001b[0m \u001b[0mmatplotlib\u001b[0m\u001b[0;34m.\u001b[0m\u001b[0mpyplot\u001b[0m \u001b[0;32mas\u001b[0m \u001b[0mplt\u001b[0m\u001b[0;34m\u001b[0m\u001b[0m\n\u001b[1;32m      4\u001b[0m \u001b[0;32mfrom\u001b[0m \u001b[0mmatplotlib\u001b[0m \u001b[0;32mimport\u001b[0m \u001b[0mrcParams\u001b[0m\u001b[0;34m\u001b[0m\u001b[0m\n\u001b[0;32m----> 5\u001b[0;31m \u001b[0;32mfrom\u001b[0m \u001b[0mtsne\u001b[0m \u001b[0;32mimport\u001b[0m \u001b[0mbh_sne\u001b[0m\u001b[0;34m\u001b[0m\u001b[0m\n\u001b[0m\u001b[1;32m      6\u001b[0m \u001b[0;32mfrom\u001b[0m \u001b[0mimblearn\u001b[0m\u001b[0;34m.\u001b[0m\u001b[0mover_sampling\u001b[0m \u001b[0;32mimport\u001b[0m \u001b[0mRandomOverSampler\u001b[0m\u001b[0;34m\u001b[0m\u001b[0m\n\u001b[1;32m      7\u001b[0m \u001b[0;32mimport\u001b[0m \u001b[0mrandom\u001b[0m\u001b[0;34m\u001b[0m\u001b[0m\n",
      "\u001b[0;31mModuleNotFoundError\u001b[0m: No module named 'tsne'"
     ]
    }
   ],
   "source": [
    "import numpy as np\n",
    "import pandas as pd\n",
    "import matplotlib.pyplot as plt\n",
    "from matplotlib import rcParams\n",
    "from tsne import bh_sne\n",
    "from imblearn.over_sampling import RandomOverSampler\n",
    "import random"
   ]
  },
  {
   "cell_type": "code",
   "execution_count": null,
   "metadata": {
    "collapsed": true
   },
   "outputs": [],
   "source": [
    "cd /media/sf_datasets/Smarter\\ Devices/BLUED_extracted/BLUED-TK"
   ]
  },
  {
   "cell_type": "code",
   "execution_count": null,
   "metadata": {},
   "outputs": [],
   "source": [
    "#loading the data\n",
    "df=pd.read_csv('peaks_updated.txt',delimiter=',',index_col=0)\n",
    "\n",
    "cols=[str(i) for i in range(70)]\n",
    "cols+=['labels','phase']\n",
    "\n",
    "df.columns=cols\n",
    "#finding the single event devices\n",
    "freq=df.groupby('labels').count()\n",
    "single_freq=freq[freq['0']==1].index\n",
    "\n",
    "# printing the values by count\n",
    "# df.groupby('label').count().sort_values(by='features')\n",
    "\n",
    "#eliminating all the single event devices\n",
    "for i in single_freq:\n",
    "    df=(df[df['labels']!=i])\n",
    "\n",
    "phase='A'\n",
    "df=df[df['phase']==phase]\n",
    "# for i in range(2,70):\n",
    "#     del df[str(i)]\n",
    "\n",
    "del df['phase']\n",
    "\n",
    "print(\"Events left after removal of single events %d\"%len(df))\n",
    "\n",
    "device_list=df['labels'].unique()\n",
    "print('output devices %s'%len(device_list))\n",
    "\n",
    "\n",
    "#convert the dataframe to matrix\n",
    "feature_matrix=df.as_matrix()\n",
    "labels=np.array(df['labels'])\n",
    "inputs=feature_matrix.shape[1]\n",
    "outputs=len(device_list)\n",
    "total_events=len(df)\n",
    "\n",
    "# #standardization\n",
    "# feature_matrix=(feature_matrix-feature_matrix.mean(axis=0))/feature_matrix.var(axis=0)\n",
    "label_matrix=labels\n",
    "print(\"X=%s Y=%s\"%(feature_matrix.shape,label_matrix.shape))"
   ]
  },
  {
   "cell_type": "code",
   "execution_count": null,
   "metadata": {
    "collapsed": true
   },
   "outputs": [],
   "source": [
    "#Tsne\n",
    "X_2d = bh_sne(feature_matrix)\n",
    "#figure Size\n",
    "rcParams['figure.figsize'] = 20,20\n",
    "dim1=X_2d[:,0]\n",
    "dim2=X_2d[:,1]"
   ]
  },
  {
   "cell_type": "code",
   "execution_count": null,
   "metadata": {},
   "outputs": [],
   "source": [
    "print('phase A')\n",
    "unique = list(set(label_matrix))\n",
    "colors = [plt.cm.jet(float(i)/len(unique)) for i in range(len(unique))]\n",
    "colors = random.sample(colors, len(colors))\n",
    "\n",
    "for i, u in enumerate(unique):\n",
    "    xi = dim1[np.where(label_matrix == u)]\n",
    "    yi = dim2[np.where(label_matrix == u)]\n",
    "    plt.scatter(xi, yi, c=colors[i], label=str(u))\n",
    "plt.legend(fontsize='x-large',ncol=3,title='Devices')\n",
    "plt.show()"
   ]
  },
  {
   "cell_type": "code",
   "execution_count": null,
   "metadata": {},
   "outputs": [],
   "source": [
    "#loading the data\n",
    "df=pd.read_csv('peaks_updated.txt',delimiter=',',index_col=0)\n",
    "\n",
    "cols=[str(i) for i in range(70)]\n",
    "cols+=['labels','phase']\n",
    "\n",
    "df.columns=cols\n",
    "#finding the single event devices\n",
    "freq=df.groupby('labels').count()\n",
    "single_freq=freq[freq['0']==1].index\n",
    "\n",
    "# printing the values by count\n",
    "# df.groupby('label').count().sort_values(by='features')\n",
    "\n",
    "#eliminating all the single event devices\n",
    "for i in single_freq:\n",
    "    df=(df[df['labels']!=i])\n",
    "\n",
    "phase='B'\n",
    "df=df[df['phase']==phase]\n",
    "# for i in range(2,70):\n",
    "#     del df[str(i)]\n",
    "\n",
    "del df['phase']\n",
    "    \n",
    "print(\"Events left after removal of single events %d\"%len(df))\n",
    "\n",
    "device_list=df['labels'].unique()\n",
    "print('output devices %s'%len(device_list))\n",
    "\n",
    "\n",
    "#convert the dataframe to matrix\n",
    "temp=df.copy()\n",
    "del temp['labels']\n",
    "feature_matrix=temp.as_matrix()\n",
    "labels=np.array(df['labels'])\n",
    "inputs=feature_matrix.shape[1]\n",
    "outputs=len(device_list)\n",
    "total_events=len(df)\n",
    "\n",
    "# #standardization\n",
    "# feature_matrix=(feature_matrix-feature_matrix.mean(axis=0))/feature_matrix.var(axis=0)\n",
    "label_matrix=labels\n",
    "print(\"X=%s Y=%s\"%(feature_matrix.shape,label_matrix.shape))"
   ]
  },
  {
   "cell_type": "code",
   "execution_count": null,
   "metadata": {
    "collapsed": true
   },
   "outputs": [],
   "source": [
    "#Tsne\n",
    "X_2d = bh_sne(feature_matrix)\n",
    "\n",
    "#figure Size\n",
    "rcParams['figure.figsize'] = 20,20\n",
    "dim1=X_2d[:,0]\n",
    "dim2=X_2d[:,1]"
   ]
  },
  {
   "cell_type": "code",
   "execution_count": null,
   "metadata": {},
   "outputs": [],
   "source": [
    "print('phase B')\n",
    "unique = list(set(label_matrix))\n",
    "colors = [plt.cm.jet(float(i)/len(unique)) for i in range(len(unique))]\n",
    "colors = random.sample(colors, len(colors))\n",
    "\n",
    "for i, u in enumerate(unique):\n",
    "    xi = dim1[np.where(label_matrix == u)]\n",
    "    yi = dim2[np.where(label_matrix == u)]\n",
    "    plt.scatter(xi, yi, c=colors[i], label=str(u))\n",
    "plt.legend(fontsize='x-large',ncol=3,title='Devices')\n",
    "plt.show()"
   ]
  },
  {
   "cell_type": "code",
   "execution_count": null,
   "metadata": {
    "collapsed": true
   },
   "outputs": [],
   "source": []
  },
  {
   "cell_type": "code",
   "execution_count": null,
   "metadata": {
    "collapsed": true
   },
   "outputs": [],
   "source": []
  }
 ],
 "metadata": {
  "kernelspec": {
   "display_name": "Python 3",
   "language": "python",
   "name": "python3"
  },
  "language_info": {
   "codemirror_mode": {
    "name": "ipython",
    "version": 3
   },
   "file_extension": ".py",
   "mimetype": "text/x-python",
   "name": "python",
   "nbconvert_exporter": "python",
   "pygments_lexer": "ipython3",
   "version": "3.6.0"
  }
 },
 "nbformat": 4,
 "nbformat_minor": 2
}
