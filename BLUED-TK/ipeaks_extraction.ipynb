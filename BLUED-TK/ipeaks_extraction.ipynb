{
 "cells": [
  {
   "cell_type": "code",
   "execution_count": 1,
   "metadata": {},
   "outputs": [
    {
     "name": "stdout",
     "output_type": "stream",
     "text": [
      "/media/sf_datasets/Smarter Devices/BLUED_extracted/BLUED-TK\n"
     ]
    }
   ],
   "source": [
    "cd /media/sf_datasets/Smarter\\ Devices/BLUED_extracted/BLUED-TK"
   ]
  },
  {
   "cell_type": "code",
   "execution_count": 2,
   "metadata": {
    "collapsed": true
   },
   "outputs": [],
   "source": [
    "import numpy as np\n",
    "import os\n",
    "import pandas as pd\n",
    "from multiprocessing import Pool,cpu_count"
   ]
  },
  {
   "cell_type": "code",
   "execution_count": 3,
   "metadata": {
    "collapsed": true
   },
   "outputs": [],
   "source": [
    "def peak_extract(zx):\n",
    "    l = []\n",
    "    path = 'final_events/dataset_'+str(zx)+'/'\n",
    "    list_of_files = os.listdir(path)\n",
    "    count=0\n",
    "    features,labels,phase=[],[],[]\n",
    "#     print(len(list_of_files))\n",
    "    for file in list_of_files:\n",
    "#         try:\n",
    "            #selecting only the curent values\n",
    "            data = np.loadtxt(path+file, delimiter = ',')\n",
    "            #finding the peaks\n",
    "            ipeaks = np.array([max(data[index:index+200]) for index in range(0,len(data),200)])\n",
    "#             ipeaks = (ipeaks-np.mean(ipeaks[0:29]))[30:]\n",
    "            mean = np.mean(ipeaks[:29])\n",
    "            ipeaks = ipeaks[30:]-mean\n",
    "            if len(ipeaks)!=(60):\n",
    "                print(file,len(data)/200)\n",
    "                continue\n",
    "            else:\n",
    "                label=str(file.split('_')[0])\n",
    "                features.append(ipeaks)\n",
    "                labels.append(label)\n",
    "                phase.append(str(file.split('_')[1]))\n",
    "                count+=1\n",
    "#         except:\n",
    "#             print('exception at ' + file)\n",
    "    print (len(ipeaks))\n",
    "    features=np.array(features)\n",
    "    labels=np.array(labels)\n",
    "    phase=np.array(phase)\n",
    "    return features,labels,phase"
   ]
  },
  {
   "cell_type": "code",
   "execution_count": 4,
   "metadata": {
    "scrolled": true
   },
   "outputs": [
    {
     "name": "stdout",
     "output_type": "stream",
     "text": [
      "Found 16 processors on the pc\n",
      "129_B_480071.617000.txt 31.74\n",
      "60\n",
      "60\n",
      "60\n",
      "60\n",
      "60\n",
      "60\n",
      "60\n",
      "60\n",
      "60\n",
      "60\n",
      "60\n",
      "60\n",
      "60\n",
      "60\n",
      "60\n",
      "60\n"
     ]
    }
   ],
   "source": [
    "df_list = []\n",
    "print (\"Found %d processors on the pc\"%cpu_count())\n",
    "pool = Pool(processes=cpu_count())\n",
    "data_list=pool.map(peak_extract,[i for i in range(1,17)])\n",
    "# data_list=[peak_extract(i) for i in range(1,17)]\n",
    "# for i in range(1,17):\n",
    "#     df_list.append(foo(i))\n",
    "#     print('done %f', i)\n"
   ]
  },
  {
   "cell_type": "code",
   "execution_count": 5,
   "metadata": {},
   "outputs": [
    {
     "name": "stdout",
     "output_type": "stream",
     "text": [
      "(2379, 60)\n",
      "(2379,)\n",
      "(2379,)\n"
     ]
    }
   ],
   "source": [
    "f=[x[0] for x in data_list]\n",
    "l=[x[1] for x in data_list]\n",
    "p=[x[2] for x in data_list]\n",
    "features=f[0]\n",
    "labels=l[0]\n",
    "phase=p[0]\n",
    "#creating feature np.array\n",
    "for ff in f:\n",
    "    features=np.vstack((features,ff))\n",
    "#creating label np.array\n",
    "for ll in l:\n",
    "    labels=np.hstack((labels,ll))\n",
    "#creating phase np.array\n",
    "for pp in p:\n",
    "    phase=np.hstack((phase,pp))\n",
    "print(features.shape)\n",
    "print(labels.shape)\n",
    "print(phase.shape)\n",
    "# f=np.array(features,dtype=np.float164)\n",
    "# l=np.array(labels,dtype=np.int16)"
   ]
  },
  {
   "cell_type": "code",
   "execution_count": 6,
   "metadata": {
    "collapsed": true
   },
   "outputs": [],
   "source": [
    "f=pd.DataFrame(features)\n",
    "f['labels']=labels\n",
    "f['phase']=phase\n",
    "f.to_csv('final_events/final_peaks_updated_new.txt',sep=',')"
   ]
  },
  {
   "cell_type": "code",
   "execution_count": null,
   "metadata": {
    "collapsed": true
   },
   "outputs": [],
   "source": []
  }
 ],
 "metadata": {
  "anaconda-cloud": {},
  "kernelspec": {
   "display_name": "Python 3",
   "language": "python",
   "name": "python3"
  },
  "language_info": {
   "codemirror_mode": {
    "name": "ipython",
    "version": 3
   },
   "file_extension": ".py",
   "mimetype": "text/x-python",
   "name": "python",
   "nbconvert_exporter": "python",
   "pygments_lexer": "ipython3",
   "version": "3.6.0"
  }
 },
 "nbformat": 4,
 "nbformat_minor": 2
}
