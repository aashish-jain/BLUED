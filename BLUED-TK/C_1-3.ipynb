{
 "cells": [
  {
   "cell_type": "code",
   "execution_count": 23,
   "metadata": {},
   "outputs": [
    {
     "name": "stdout",
     "output_type": "stream",
     "text": [
      "/media/sf_datasets/Smarter Devices\n"
     ]
    }
   ],
   "source": [
    "cd /media/sf_datasets/Smarter\\ Devices/"
   ]
  },
  {
   "cell_type": "code",
   "execution_count": 24,
   "metadata": {},
   "outputs": [
    {
     "name": "stdout",
     "output_type": "stream",
     "text": [
      "\u001b[0m\u001b[34;42mBLUED\u001b[0m/  \u001b[34;42mBLUED_extracted\u001b[0m/  \u001b[34;42mPLAID\u001b[0m/  \u001b[01;34mREDD tar\u001b[0m/  \u001b[34;42mUK-DALE\u001b[0m/\r\n"
     ]
    }
   ],
   "source": [
    "ls"
   ]
  },
  {
   "cell_type": "code",
   "execution_count": 25,
   "metadata": {},
   "outputs": [
    {
     "name": "stdout",
     "output_type": "stream",
     "text": [
      "/media/sf_datasets/Smarter Devices/BLUED_extracted/BLUED-TK/events/derived\n"
     ]
    }
   ],
   "source": [
    "cd BLUED_extracted/BLUED-TK/events/derived"
   ]
  },
  {
   "cell_type": "code",
   "execution_count": 26,
   "metadata": {},
   "outputs": [
    {
     "name": "stdout",
     "output_type": "stream",
     "text": [
      "/media/sf_datasets/Smarter Devices/BLUED_extracted/BLUED-TK/events/derived/dataset_1\n"
     ]
    }
   ],
   "source": [
    "cd dataset_1/"
   ]
  },
  {
   "cell_type": "code",
   "execution_count": 27,
   "metadata": {},
   "outputs": [
    {
     "name": "stdout",
     "output_type": "stream",
     "text": [
      "101_B_27498.001.txt           128_B_36431.984.txt\r\n",
      "102_B_27498.084.txt           128_B_38470.417.txt\r\n",
      "111_A_12555.083999999999.txt  128_B_38475.95.txt\r\n",
      "111_A_13442.1.txt             128_B_38479.6.txt\r\n",
      "111_A_1408.85.txt             129_B_21547.6.txt\r\n",
      "111_A_16300.1.txt             129_B_21553.084.txt\r\n",
      "111_A_17190.967.txt           129_B_21555.867000000002.txt\r\n",
      "111_A_20051.784.txt           129_B_22824.651.txt\r\n",
      "111_A_20702.85.txt            129_B_30365.183999999997.txt\r\n",
      "111_A_20711.517.txt           129_B_33341.184.txt\r\n",
      "111_A_20716.651.txt           129_B_37099.734.txt\r\n",
      "111_A_20719.867.txt           135_B_34086.734.txt\r\n",
      "111_A_21071.834.txt           135_B_34125.617.txt\r\n",
      "111_A_2347.884.txt            140_B_27529.234.txt\r\n",
      "111_A_23926.234.txt           140_B_28262.134.txt\r\n",
      "111_A_24577.917.txt           140_B_28373.617000000002.txt\r\n",
      "111_A_24585.234.txt           140_B_33486.284.txt\r\n",
      "111_A_24959.683999999997.txt  147_A_24942.401.txt\r\n",
      "111_A_26226.067000000003.txt  147_A_28420.551.txt\r\n",
      "111_A_26234.683999999997.txt  149_B_20791.767.txt\r\n",
      "111_A_27470.234.txt           149_B_21487.551.txt\r\n",
      "111_A_27747.301.txt           149_B_27513.667.txt\r\n",
      "111_A_27755.95.txt            149_B_27664.95.txt\r\n",
      "111_A_28514.45.txt            149_B_33435.367.txt\r\n",
      "111_A_28651.867000000002.txt  150_B_23470.767000000003.txt\r\n",
      "111_A_28658.584.txt           150_B_24456.534.txt\r\n",
      "111_A_29094.95.txt            151_B_24485.834.txt\r\n",
      "111_A_29114.384.txt           151_B_28296.1.txt\r\n",
      "111_A_29169.284.txt           152_B_21520.034.txt\r\n",
      "111_A_29173.867000000002.txt  152_B_22888.634.txt\r\n",
      "111_A_29474.834.txt           152_B_24776.817000000003.txt\r\n",
      "111_A_29482.267000000003.txt  152_B_24926.45.txt\r\n",
      "111_A_29829.2.txt             152_B_30327.567000000003.txt\r\n",
      "111_A_29833.6.txt             152_B_33362.384.txt\r\n",
      "111_A_29849.017000000003.txt  152_B_33913.884.txt\r\n",
      "111_A_29857.251.txt           152_B_34172.001000000004.txt\r\n",
      "111_A_30023.183999999997.txt  155_B_20608.034.txt\r\n",
      "111_A_30036.517000000003.txt  155_B_33410.85.txt\r\n",
      "111_A_30135.417.txt           155_B_36344.267.txt\r\n",
      "111_A_30139.234.txt           156_A_21358.1.txt\r\n",
      "111_A_30149.001.txt           156_A_21484.884.txt\r\n",
      "111_A_30172.634.txt           156_A_24866.017000000003.txt\r\n",
      "111_A_30175.95.txt            156_A_24898.35.txt\r\n",
      "111_A_30210.567000000003.txt  156_A_33438.034.txt\r\n",
      "111_A_30213.917.txt           156_A_33479.45.txt\r\n",
      "111_A_30222.45.txt            156_A_38493.767.txt\r\n",
      "111_A_30225.084.txt           157_B_20611.784.txt\r\n",
      "111_A_31336.017000000003.txt  157_B_24751.634.txt\r\n",
      "111_A_34049.667.txt           157_B_24770.217.txt\r\n",
      "111_A_34976.051.txt           157_B_24924.017000000003.txt\r\n",
      "111_A_36369.551.txt           157_B_25920.183999999997.txt\r\n",
      "111_A_36375.017.txt           157_B_33411.217000000004.txt\r\n",
      "111_A_37463.051.txt           158_A_23563.784.txt\r\n",
      "111_A_38398.334.txt           158_A_24480.284.txt\r\n",
      "111_A_5122.767.txt            158_A_36526.151.txt\r\n",
      "111_A_6035.534000000001.txt   158_A_38509.984.txt\r\n",
      "111_A_8838.85.txt             159_B_21531.95.txt\r\n",
      "111_A_9736.734.txt            159_B_22872.317000000003.txt\r\n",
      "112_B_27700.767000000003.txt  159_B_24787.134.txt\r\n",
      "112_B_33958.617.txt           159_B_24796.034.txt\r\n",
      "118_B_20791.334.txt           159_B_30342.017000000003.txt\r\n",
      "118_B_27854.317000000003.txt  159_B_33351.784.txt\r\n",
      "120_B_27526.117000000002.txt  159_B_33924.901.txt\r\n",
      "123_B_21537.484.txt           159_B_33934.35.txt\r\n",
      "123_B_22825.551.txt           159_B_34054.084.txt\r\n",
      "123_B_30355.051.txt           159_B_34155.167.txt\r\n",
      "123_B_33341.717000000004.txt  159_B_37084.1.txt\r\n",
      "123_B_37089.6.txt             204_B_13641.966999999999.txt\r\n",
      "127_A_12726.617.txt           204_B_13738.6.txt\r\n",
      "127_A_12746.284.txt           204_B_15027.801000000001.txt\r\n",
      "128_B_20795.651.txt           204_B_34487.051.txt\r\n",
      "128_B_22853.984.txt           204_B_35178.417.txt\r\n",
      "128_B_22859.517000000003.txt  204_B_36237.334.txt\r\n",
      "128_B_22863.167.txt           207_A_12726.617.txt\r\n",
      "128_B_24231.884.txt           207_A_12746.301000000001.txt\r\n",
      "128_B_25731.017000000003.txt  207_A_24942.401.txt\r\n",
      "128_B_25736.534.txt           207_A_28420.551.txt\r\n",
      "128_B_25740.784.txt\r\n"
     ]
    }
   ],
   "source": [
    "ls"
   ]
  },
  {
   "cell_type": "code",
   "execution_count": 6,
   "metadata": {
    "collapsed": true
   },
   "outputs": [],
   "source": [
    "import numpy as np\n",
    "import matplotlib.pyplot as plt"
   ]
  },
  {
   "cell_type": "code",
   "execution_count": 28,
   "metadata": {},
   "outputs": [],
   "source": [
    "f = np.loadtxt(\"123_B_21537.484.txt\", delimiter = ',')"
   ]
  },
  {
   "cell_type": "code",
   "execution_count": 29,
   "metadata": {},
   "outputs": [
    {
     "name": "stdout",
     "output_type": "stream",
     "text": [
      "[[    6.78829019   122.84948551   762.05349428   338.71372769\n",
      "    833.93795781]\n",
      " [    6.86603492   122.82457934   771.60042647   340.3201139    843.31785114]\n",
      " [    6.78537839   122.85577005   761.09810142   340.0835177    833.62288776]\n",
      " [    6.75953264   122.85859926   757.80604513   339.71305074\n",
      "    830.46671148]\n",
      " [    6.84965045   122.85134038   769.11819178   341.40958491\n",
      "    841.48873884]\n",
      " [    6.86945978   122.86125241   771.41649344   342.39807726\n",
      "    843.99043221]\n",
      " [    6.79524626   122.89208421   762.18755226   341.22139652\n",
      "    835.08197577]\n",
      " [    6.87701587   122.86891288   771.49984609   344.62263624\n",
      "    844.97146338]\n",
      " [    6.83848041   122.88782248   766.45707426   344.61356812\n",
      "    840.36596671]\n",
      " [    6.81760763   122.86855316   764.15036264   343.16840941\n",
      "    837.66958519]\n",
      " [    6.86958284   122.85653957   771.20048667   342.84184611\n",
      "    843.97317616]\n",
      " [    6.80937759   122.86681254   763.65385486   341.77505732\n",
      "    836.64652025]\n",
      " [    6.78795969   122.88002157   761.59832098   340.14487493   834.1046328 ]\n",
      " [    6.8425216    122.86943625   768.09384846   341.8627787    840.73677183]\n",
      " [    6.8007608    122.88084934   762.20770092   342.64549685\n",
      "    835.68326287]\n",
      " [    6.75345856   122.87572629   755.83399905   342.55358898\n",
      "    829.83612566]\n",
      " [    6.80977604   122.84487528   764.22116186   340.25780472\n",
      "    836.54608834]\n",
      " [    6.79791486   122.86701553   762.37036014   341.19858605\n",
      "    835.23951125]\n",
      " [    6.76376532   122.87878905   758.17282389   340.49947911\n",
      "    831.12329179]\n",
      " [    6.84811866   122.83482647   768.44536972   342.18133995   841.1874676 ]\n",
      " [    6.77270941   122.84906993   759.69125773   339.30550129\n",
      "    832.02105159]\n",
      " [    6.79211886   122.88081488   761.79092257   340.97942985\n",
      "    834.62110043]\n",
      " [    6.83738142   122.8536031    767.79008363   340.72459716\n",
      "    839.99694263]\n",
      " [    6.8401332    122.85051783   767.57320093   341.99245871\n",
      "    840.31390599]\n",
      " [    6.76708767   122.88174839   759.09875783   339.48060344   831.5515644 ]\n",
      " [    6.83540804   122.84969019   767.15442255   341.49202374\n",
      "    839.72775964]\n",
      " [    6.7877724    122.84811731   761.31528328   340.19108985\n",
      "    833.86505993]\n",
      " [    6.81434198   122.86626559   764.71083783   340.89515106\n",
      "    837.25275127]\n",
      " [    6.85320181   122.83234038   769.84713462   340.52004999\n",
      "    841.79481771]\n",
      " [    6.77082369   122.84116049   759.15701725   339.80160455\n",
      "    831.73583985]\n",
      " [    6.75760753   122.84515924   757.83522202   338.84680254\n",
      "    830.13937343]\n",
      " [    8.90281269   122.69658613  1030.09141724   363.49507176\n",
      "   1092.34472355]\n",
      " [   10.92272816   122.58173015  1299.69605702   321.73816322\n",
      "   1338.92691597]\n",
      " [    7.37224545   122.82282493   849.22809922   314.17461463\n",
      "    905.48001247]\n",
      " [    7.06710016   122.82788324   799.34312808   338.43569046   868.0369537 ]\n",
      " [    7.63600955   122.7781776    878.90024025   326.35391067\n",
      "    937.53533658]\n",
      " [    7.38912622   122.77518016   845.84359127   327.9677182    907.2013035 ]\n",
      " [    7.06238705   122.79023978   800.41477116   333.70421636\n",
      "    867.19219894]\n",
      " [    6.8667986    122.80065141   772.00594846   339.22395863\n",
      "    843.24734128]\n",
      " [    6.7786562    122.8171789    759.90148508   340.09554206\n",
      "    832.53543153]\n",
      " [    6.84001855   122.81610534   768.39442595   339.5265353    840.0644392 ]\n",
      " [    6.82378359   122.79872087   765.48944564   340.86550143\n",
      "    837.95189686]\n",
      " [    6.76809222   122.80804313   758.12111982   340.7435672    831.17616117]\n",
      " [    6.9225084    122.76961458   777.96776785   342.12780813\n",
      "    849.87368762]\n",
      " [    7.01502534   122.78232593   794.14810041   333.47095893\n",
      "    861.32112817]\n",
      " [    6.8421637    122.79516933   768.98795267   338.47861681\n",
      "    840.18464958]\n",
      " [    6.99984216   122.77384202   789.83147766   338.71865277\n",
      "    859.39751503]\n",
      " [    6.99118021   122.78732669   789.10466311   337.95417743\n",
      "    858.42832862]\n",
      " [    6.89229103   122.82097918   776.76476508   336.49533639\n",
      "    846.51793347]\n",
      " [    6.98995267   122.77436251   790.18484561   334.80264135\n",
      "    858.18698364]\n",
      " [    6.95286756   122.77942116   785.36454833   334.59435376\n",
      "    853.66905493]\n",
      " [    6.87830764   122.83314923   776.3478948    333.336524     844.88418851]\n",
      " [    7.01812591   122.78017489   793.08055208   336.93805487\n",
      "    861.68672667]\n",
      " [    6.89417112   122.8003679    777.33606405   335.39772311\n",
      "    846.60674999]\n",
      " [    6.88425434   122.81959711   776.99662462   333.44053216   845.521344  ]\n",
      " [    7.05941922   122.7718794    799.92214804   333.60195775\n",
      "    866.69816496]\n",
      " [    6.9716548    122.79314642   786.81984864   337.30226277\n",
      "    856.07142849]\n",
      " [    6.88939025   122.81468642   776.48057472   336.14595194\n",
      "    846.11830374]\n",
      " [    7.04651162   122.76552119   797.05071206   336.23499034\n",
      "    865.06867145]\n",
      " [    6.92205156   122.74882316   781.26574973   334.01975446\n",
      "    849.67368329]\n",
      " [    6.8782327    122.77011002   774.4889992    336.52346745\n",
      "    844.44138578]\n",
      " [    7.0180371    122.75419988   793.42051503   335.64115638\n",
      "    861.49352843]\n",
      " [    6.94189531   122.78620861   783.34658466   336.00751619\n",
      "    852.36900614]\n",
      " [    6.86804124   122.78404596   774.08308142   334.55414673\n",
      "    843.28589104]\n",
      " [    6.99425479   122.75438753   789.83208976   336.62604781\n",
      "    858.57546324]\n",
      " [    6.96148856   122.74732469   785.33909211   336.7785046    854.5040964 ]\n",
      " [   13.26134007   122.4215042   1510.12947391   595.96493319\n",
      "   1623.47319952]\n",
      " [    8.70253473   122.64937273   955.71407426   475.25665299\n",
      "   1067.36042551]\n",
      " [    7.78418813   122.71289455   851.56465416   432.76249791\n",
      "    955.22025722]\n",
      " [    7.46876213   122.74635285   822.19602955   405.52269702\n",
      "    916.76331122]\n",
      " [    7.45409436   122.73057577   826.9031544    391.37332874   914.8452925 ]\n",
      " [    7.32098971   122.73379518   813.01839254   382.57336425\n",
      "    898.53285173]\n",
      " [    7.25405065   122.75181043   805.95414553   378.59647424   890.4478508 ]\n",
      " [    7.30670455   122.75996388   814.95828914   374.69931834   896.9707867 ]\n",
      " [    7.30594107   122.75260811   815.69475061   372.73870492\n",
      "    896.82332057]\n",
      " [    7.2497652    122.75288242   809.24938632   370.25677612   889.9295756 ]\n",
      " [    7.28299814   122.75400893   813.66002487   370.4377844    894.01721918]\n",
      " [    7.26011256   122.785778     811.01204289   370.02998276\n",
      "    891.43856875]\n",
      " [    7.24089782   122.7721776    809.70354281   366.97005682\n",
      "    888.98079273]\n",
      " [    7.31925238   122.72828826   820.26902515   366.14813453\n",
      "    898.27931627]\n",
      " [    7.25231526   122.79382853   811.7595359    366.20644192   890.5395568 ]\n",
      " [    7.24313436   122.80570699   811.27315897   364.75056218\n",
      "    889.49823557]\n",
      " [    7.30302235   122.7585963    817.70499365   367.54118575\n",
      "    896.50877288]\n",
      " [    7.26531387   122.77331324   814.28192222   364.12243212\n",
      "    891.98665597]\n",
      " [    7.2111877    122.79115192   807.83743494   362.56844641\n",
      "    885.47004446]\n",
      " [    7.2895264    122.75590863   818.36186804   361.95157568\n",
      "    894.83243694]\n",
      " [    7.22710822   122.7827271    811.1074623    359.88838908\n",
      "    887.36405606]\n",
      " [    7.21360316   122.80406227   809.49313666   359.81717082\n",
      "    885.85977148]\n",
      " [    7.27552411   122.78125811   817.46442584   360.18500262\n",
      "    893.29800382]]\n"
     ]
    }
   ],
   "source": [
    "print (f)"
   ]
  },
  {
   "cell_type": "code",
   "execution_count": 30,
   "metadata": {},
   "outputs": [
    {
     "data": {
      "image/png": "[encoded data removed]",
      "text/plain": [
       "<matplotlib.figure.Figure at 0x7fb85a186710>"
      ]
     },
     "metadata": {},
     "output_type": "display_data"
    }
   ],
   "source": [
    "plt.plot(f[1])\n",
    "plt.show()"
   ]
  },
  {
   "cell_type": "code",
   "execution_count": 31,
   "metadata": {},
   "outputs": [
    {
     "data": {
      "text/plain": [
       "'/media/sf_datasets/Smarter Devices/BLUED_extracted/BLUED-TK/events/derived/dataset_1'"
      ]
     },
     "execution_count": 31,
     "metadata": {},
     "output_type": "execute_result"
    }
   ],
   "source": [
    "pwd"
   ]
  },
  {
   "cell_type": "code",
   "execution_count": 32,
   "metadata": {},
   "outputs": [
    {
     "name": "stdout",
     "output_type": "stream",
     "text": [
      "/media/sf_datasets/Smarter Devices/BLUED_extracted/BLUED-TK/events/derived\n"
     ]
    }
   ],
   "source": [
    "cd .."
   ]
  },
  {
   "cell_type": "code",
   "execution_count": 33,
   "metadata": {},
   "outputs": [
    {
     "name": "stdout",
     "output_type": "stream",
     "text": [
      "\u001b[0m\u001b[01;34mdataset_1\u001b[0m/   \u001b[01;34mdataset_12\u001b[0m/  \u001b[01;34mdataset_15\u001b[0m/  \u001b[01;34mdataset_3\u001b[0m/  \u001b[01;34mdataset_6\u001b[0m/  \u001b[01;34mdataset_9\u001b[0m/\r\n",
      "\u001b[01;34mdataset_10\u001b[0m/  \u001b[01;34mdataset_13\u001b[0m/  \u001b[01;34mdataset_16\u001b[0m/  \u001b[01;34mdataset_4\u001b[0m/  \u001b[01;34mdataset_7\u001b[0m/\r\n",
      "\u001b[01;34mdataset_11\u001b[0m/  \u001b[01;34mdataset_14\u001b[0m/  \u001b[01;34mdataset_2\u001b[0m/   \u001b[01;34mdataset_5\u001b[0m/  \u001b[01;34mdataset_8\u001b[0m/\r\n"
     ]
    }
   ],
   "source": [
    "ls"
   ]
  },
  {
   "cell_type": "code",
   "execution_count": 34,
   "metadata": {},
   "outputs": [
    {
     "name": "stdout",
     "output_type": "stream",
     "text": [
      "/media/sf_datasets/Smarter Devices/BLUED_extracted/BLUED-TK/events\n"
     ]
    }
   ],
   "source": [
    "cd .."
   ]
  },
  {
   "cell_type": "code",
   "execution_count": 35,
   "metadata": {},
   "outputs": [
    {
     "name": "stdout",
     "output_type": "stream",
     "text": [
      "\u001b[0m\u001b[01;34mdataset_1\u001b[0m/   \u001b[01;34mdataset_12\u001b[0m/  \u001b[01;34mdataset_15\u001b[0m/  \u001b[01;34mdataset_3\u001b[0m/  \u001b[01;34mdataset_6\u001b[0m/  \u001b[01;34mdataset_9\u001b[0m/\r\n",
      "\u001b[01;34mdataset_10\u001b[0m/  \u001b[01;34mdataset_13\u001b[0m/  \u001b[01;34mdataset_16\u001b[0m/  \u001b[01;34mdataset_4\u001b[0m/  \u001b[01;34mdataset_7\u001b[0m/  \u001b[01;34mderived\u001b[0m/\r\n",
      "\u001b[01;34mdataset_11\u001b[0m/  \u001b[01;34mdataset_14\u001b[0m/  \u001b[01;34mdataset_2\u001b[0m/   \u001b[01;34mdataset_5\u001b[0m/  \u001b[01;34mdataset_8\u001b[0m/  peaks.csv\r\n"
     ]
    }
   ],
   "source": [
    "ls"
   ]
  },
  {
   "cell_type": "code",
   "execution_count": 40,
   "metadata": {},
   "outputs": [
    {
     "ename": "ValueError",
     "evalue": "could not convert string to float: b'\\tfeatures\\tlabel'",
     "output_type": "error",
     "traceback": [
      "\u001b[0;31m---------------------------------------------------------------------------\u001b[0m",
      "\u001b[0;31mValueError\u001b[0m                                Traceback (most recent call last)",
      "\u001b[0;32m<ipython-input-40-72a2b0c12f3c>\u001b[0m in \u001b[0;36m<module>\u001b[0;34m()\u001b[0m\n\u001b[0;32m----> 1\u001b[0;31m \u001b[0mdata\u001b[0m \u001b[0;34m=\u001b[0m \u001b[0mnp\u001b[0m\u001b[0;34m.\u001b[0m\u001b[0mloadtxt\u001b[0m\u001b[0;34m(\u001b[0m\u001b[0;34m'peaks.csv'\u001b[0m\u001b[0;34m,\u001b[0m\u001b[0mdelimiter\u001b[0m\u001b[0;34m=\u001b[0m\u001b[0;34m','\u001b[0m\u001b[0;34m)\u001b[0m\u001b[0;34m\u001b[0m\u001b[0m\n\u001b[0m",
      "\u001b[0;32m/opt/anaconda/anaconda3/lib/python3.6/site-packages/numpy/lib/npyio.py\u001b[0m in \u001b[0;36mloadtxt\u001b[0;34m(fname, dtype, comments, delimiter, converters, skiprows, usecols, unpack, ndmin)\u001b[0m\n\u001b[1;32m    983\u001b[0m \u001b[0;34m\u001b[0m\u001b[0m\n\u001b[1;32m    984\u001b[0m             \u001b[0;31m# Convert each value according to its column and store\u001b[0m\u001b[0;34m\u001b[0m\u001b[0;34m\u001b[0m\u001b[0m\n\u001b[0;32m--> 985\u001b[0;31m             \u001b[0mitems\u001b[0m \u001b[0;34m=\u001b[0m \u001b[0;34m[\u001b[0m\u001b[0mconv\u001b[0m\u001b[0;34m(\u001b[0m\u001b[0mval\u001b[0m\u001b[0;34m)\u001b[0m \u001b[0;32mfor\u001b[0m \u001b[0;34m(\u001b[0m\u001b[0mconv\u001b[0m\u001b[0;34m,\u001b[0m \u001b[0mval\u001b[0m\u001b[0;34m)\u001b[0m \u001b[0;32min\u001b[0m \u001b[0mzip\u001b[0m\u001b[0;34m(\u001b[0m\u001b[0mconverters\u001b[0m\u001b[0;34m,\u001b[0m \u001b[0mvals\u001b[0m\u001b[0;34m)\u001b[0m\u001b[0;34m]\u001b[0m\u001b[0;34m\u001b[0m\u001b[0m\n\u001b[0m\u001b[1;32m    986\u001b[0m             \u001b[0;31m# Then pack it according to the dtype's nesting\u001b[0m\u001b[0;34m\u001b[0m\u001b[0;34m\u001b[0m\u001b[0m\n\u001b[1;32m    987\u001b[0m             \u001b[0mitems\u001b[0m \u001b[0;34m=\u001b[0m \u001b[0mpack_items\u001b[0m\u001b[0;34m(\u001b[0m\u001b[0mitems\u001b[0m\u001b[0;34m,\u001b[0m \u001b[0mpacking\u001b[0m\u001b[0;34m)\u001b[0m\u001b[0;34m\u001b[0m\u001b[0m\n",
      "\u001b[0;32m/opt/anaconda/anaconda3/lib/python3.6/site-packages/numpy/lib/npyio.py\u001b[0m in \u001b[0;36m<listcomp>\u001b[0;34m(.0)\u001b[0m\n\u001b[1;32m    983\u001b[0m \u001b[0;34m\u001b[0m\u001b[0m\n\u001b[1;32m    984\u001b[0m             \u001b[0;31m# Convert each value according to its column and store\u001b[0m\u001b[0;34m\u001b[0m\u001b[0;34m\u001b[0m\u001b[0m\n\u001b[0;32m--> 985\u001b[0;31m             \u001b[0mitems\u001b[0m \u001b[0;34m=\u001b[0m \u001b[0;34m[\u001b[0m\u001b[0mconv\u001b[0m\u001b[0;34m(\u001b[0m\u001b[0mval\u001b[0m\u001b[0;34m)\u001b[0m \u001b[0;32mfor\u001b[0m \u001b[0;34m(\u001b[0m\u001b[0mconv\u001b[0m\u001b[0;34m,\u001b[0m \u001b[0mval\u001b[0m\u001b[0;34m)\u001b[0m \u001b[0;32min\u001b[0m \u001b[0mzip\u001b[0m\u001b[0;34m(\u001b[0m\u001b[0mconverters\u001b[0m\u001b[0;34m,\u001b[0m \u001b[0mvals\u001b[0m\u001b[0;34m)\u001b[0m\u001b[0;34m]\u001b[0m\u001b[0;34m\u001b[0m\u001b[0m\n\u001b[0m\u001b[1;32m    986\u001b[0m             \u001b[0;31m# Then pack it according to the dtype's nesting\u001b[0m\u001b[0;34m\u001b[0m\u001b[0;34m\u001b[0m\u001b[0m\n\u001b[1;32m    987\u001b[0m             \u001b[0mitems\u001b[0m \u001b[0;34m=\u001b[0m \u001b[0mpack_items\u001b[0m\u001b[0;34m(\u001b[0m\u001b[0mitems\u001b[0m\u001b[0;34m,\u001b[0m \u001b[0mpacking\u001b[0m\u001b[0;34m)\u001b[0m\u001b[0;34m\u001b[0m\u001b[0m\n",
      "\u001b[0;32m/opt/anaconda/anaconda3/lib/python3.6/site-packages/numpy/lib/npyio.py\u001b[0m in \u001b[0;36mfloatconv\u001b[0;34m(x)\u001b[0m\n\u001b[1;32m    685\u001b[0m         \u001b[0;32mif\u001b[0m \u001b[0;34mb'0x'\u001b[0m \u001b[0;32min\u001b[0m \u001b[0mx\u001b[0m\u001b[0;34m:\u001b[0m\u001b[0;34m\u001b[0m\u001b[0m\n\u001b[1;32m    686\u001b[0m             \u001b[0;32mreturn\u001b[0m \u001b[0mfloat\u001b[0m\u001b[0;34m.\u001b[0m\u001b[0mfromhex\u001b[0m\u001b[0;34m(\u001b[0m\u001b[0masstr\u001b[0m\u001b[0;34m(\u001b[0m\u001b[0mx\u001b[0m\u001b[0;34m)\u001b[0m\u001b[0;34m)\u001b[0m\u001b[0;34m\u001b[0m\u001b[0m\n\u001b[0;32m--> 687\u001b[0;31m         \u001b[0;32mreturn\u001b[0m \u001b[0mfloat\u001b[0m\u001b[0;34m(\u001b[0m\u001b[0mx\u001b[0m\u001b[0;34m)\u001b[0m\u001b[0;34m\u001b[0m\u001b[0m\n\u001b[0m\u001b[1;32m    688\u001b[0m \u001b[0;34m\u001b[0m\u001b[0m\n\u001b[1;32m    689\u001b[0m     \u001b[0mtyp\u001b[0m \u001b[0;34m=\u001b[0m \u001b[0mdtype\u001b[0m\u001b[0;34m.\u001b[0m\u001b[0mtype\u001b[0m\u001b[0;34m\u001b[0m\u001b[0m\n",
      "\u001b[0;31mValueError\u001b[0m: could not convert string to float: b'\\tfeatures\\tlabel'"
     ]
    }
   ],
   "source": [
    "data = np.loadtxt('peaks.csv',delimiter=',')"
   ]
  },
  {
   "cell_type": "code",
   "execution_count": 41,
   "metadata": {
    "collapsed": true
   },
   "outputs": [],
   "source": [
    "import pandas as pd"
   ]
  },
  {
   "cell_type": "code",
   "execution_count": 44,
   "metadata": {},
   "outputs": [],
   "source": [
    "data = pd.read_csv('peaks.csv', delimiter = '\\t')"
   ]
  },
  {
   "cell_type": "code",
   "execution_count": 97,
   "metadata": {},
   "outputs": [
    {
     "name": "stdout",
     "output_type": "stream",
     "text": [
      "      Unnamed: 0                                           features  label\n",
      "0              0  [  0.46593325   0.52961425   0.59329525   0.80...    207\n",
      "1              1  [-0.06114805 -0.08223405  0.10753695 -0.124405...    149\n",
      "2              2  [-0.03502455 -0.01379755  0.00742945  0.049883...    111\n",
      "3              3  [ 0.10648275  0.23299675  0.06431175  0.232996...    140\n",
      "4              4  [  0.21120925   0.44470625   0.50838725   0.57...    127\n",
      "5              5  [ 0.17184815 -0.08117985  0.04533415  0.066420...    157\n",
      "6              6  [ 0.20874845  0.14549145  0.10331945  0.103319...    129\n",
      "7              7  [ -4.35153500e-02  -6.47423500e-02  -4.3515350...    111\n",
      "8              8  [-0.07111045  0.03502455 -0.09233745 -0.049883...    111\n",
      "9              9  [ -8.27860500e-02   4.45769500e-02   2.1229500...    111\n",
      "10            10  [ 0.0127362 -0.0509448  0.0339632  0.0127362  ...    111\n",
      "11            11  [-0.03608585  0.07004915  0.07004915  0.027595...    111\n",
      "12            12  [-0.06958315  0.01475985  0.03584585 -0.153925...    152\n",
      "13            13  [ 0.05376895 -0.00948905  0.11702595  0.117025...    204\n",
      "14            14  [-0.0115975  0.0305745 -0.0326825 -0.0537685  ...    120\n",
      "15            15  [ -4.35153500e-02  -1.06135000e-03  -2.2288350...    111\n",
      "16            16  [ 0.18555365  0.03795465 -0.15181735 -0.046388...    129\n",
      "17            17  [ 0.03268325 -0.05165975 -0.07274575  0.074854...    128\n",
      "18            18  [-0.1170258 -0.1381118  0.0305742 -0.1591968 -...    128\n",
      "19            19  [ 0.3036342  0.9572902 -0.0969938  0.1771202  ...    128\n",
      "20            20  [ 0.0506053  0.0506053 -0.0548227  0.0927773  ...    150\n",
      "21            21  [ -3.60859000e-02  -3.60859000e-02  -3.6085900...    111\n",
      "22            22  [  1.10699850e-01  -1.21243150e-01  -3.6900150...    159\n",
      "23            23  [ 0.00742945  0.02865645  0.00742945 -0.013797...    111\n",
      "24            24  [-0.164469 -0.101211 -0.164469 -0.05904  -0.18...    204\n",
      "25            25  [  4.24540000e-03   4.66994000e-02   2.5472400...    158\n",
      "26            26  [  1.01889600e-01   8.06626000e-02   1.0188960...    111\n",
      "27            27  [ 0.0127365  0.0339635  0.0127365  0.0551905  ...    111\n",
      "28            28  [-0.03926995  0.00318405 -0.01804295  0.003184...    111\n",
      "29            29  [-0.0347909 -0.1191339 -0.0137059 -0.0769629 -...    159\n",
      "...          ...                                                ...    ...\n",
      "2315        2315  [ 0.0274113 -0.0569317  0.1328403 -0.0147597  ...    155\n",
      "2316        2316  [-0.0106135 -0.0530675 -0.0955215 -0.0955215 -...    111\n",
      "2317        2317  [ 0.03584575  0.03584575 -0.15392525  0.056931...    204\n",
      "2318        2318  [-0.05271445 -0.17922845  0.05271455  0.010542...    118\n",
      "2319        2319  [-0.01167485  0.03077915  0.00955215  0.009552...    158\n",
      "2320        2320  [ 0.0084343 -0.1391657 -0.1180797  0.1349483 -...    140\n",
      "2321        2321  [ 0.00106175  0.00106175  0.00106175  0.022288...    158\n",
      "2322        2322  [-0.17395695 -0.13178595 -0.06852895 -0.237213...    128\n",
      "2323        2323  [  2.12277000e-02  -6.36813000e-02   6.3681700...    158\n",
      "2324        2324  [-0.0286565 -0.0286565 -0.0286565 -0.0711105 -...    132\n",
      "2325        2325  [-0.00527095 -0.02635695 -0.08961395  0.079071...    150\n",
      "2326        2326  [ 0.0063681 -0.0148589 -0.0148589 -0.0148589  ...    156\n",
      "2327        2327  [ 0.0063681 -0.0360859  0.0063681 -0.0360859 -...    111\n",
      "2328        2328  [ 0.0742945  0.0742945  0.0106135  0.0106135  ...    111\n",
      "2329        2329  [ 0.07907125 -0.08961375  0.01581425 -0.131785...    140\n",
      "2330        2330  [-0.08117995 -0.27095095 -0.01792295  0.024249...    134\n",
      "2331        2331  [ 0.1507117  0.0021227 -0.0191043  0.0233497  ...    111\n",
      "2332        2332  [ 0.03268295  0.01159695 -0.09383105 -0.072746...    155\n",
      "2333        2333  [-0.1507127 -0.0658037 -0.0658037 -0.0870307 -...    111\n",
      "2334        2334  [ 0.0390085 -0.0453345 -0.1085915  0.0390085  ...    149\n",
      "2335        2335  [-0.09277765 -0.07169165 -0.13494865  0.118079...    140\n",
      "2336        2336  [-0.03162865  0.20031435  0.05271435 -0.010542...    204\n",
      "2337        2337  [ 0.1209939  0.0997669  0.0997669  0.1209939  ...    111\n",
      "2338        2338  [ 0.0189776  0.0189776  0.0611486  0.0400626  ...    204\n",
      "2339        2339  [-0.0084908 -0.0084908  0.0339632  0.0339632  ...    111\n",
      "2340        2340  [-0.00955215 -0.00955215  0.01167485  0.032901...    111\n",
      "2341        2341  [-0.1167485 -0.0742945 -0.1379755 -0.0742945 -...    156\n",
      "2342        2342  [-0.03502455  0.15601845  0.13479145  0.092337...    156\n",
      "2343        2343  [ 0.0318405 -0.0318405  0.0106135  0.0106135  ...    111\n",
      "2344        2344  [ 0.0748539  0.0959399  0.0115969 -0.0727461  ...    204\n",
      "\n",
      "[2345 rows x 3 columns]\n"
     ]
    }
   ],
   "source": [
    "print (data)"
   ]
  },
  {
   "cell_type": "code",
   "execution_count": 98,
   "metadata": {},
   "outputs": [],
   "source": [
    "features = pd.DataFrame"
   ]
  },
  {
   "cell_type": "code",
   "execution_count": 100,
   "metadata": {},
   "outputs": [
    {
     "ename": "TypeError",
     "evalue": "_consolidate_inplace() missing 1 required positional argument: 'self'",
     "output_type": "error",
     "traceback": [
      "\u001b[0;31m---------------------------------------------------------------------------\u001b[0m",
      "\u001b[0;31mTypeError\u001b[0m                                 Traceback (most recent call last)",
      "\u001b[0;32m<ipython-input-100-c5e25afdcd24>\u001b[0m in \u001b[0;36m<module>\u001b[0;34m()\u001b[0m\n\u001b[0;32m----> 1\u001b[0;31m \u001b[0mfeatures\u001b[0m \u001b[0;34m=\u001b[0m \u001b[0mfeatures\u001b[0m\u001b[0;34m.\u001b[0m\u001b[0mas_matrix\u001b[0m\u001b[0;34m(\u001b[0m\u001b[0mself\u001b[0m\u001b[0;34m=\u001b[0m\u001b[0mfeatures\u001b[0m\u001b[0;34m)\u001b[0m\u001b[0;34m\u001b[0m\u001b[0m\n\u001b[0m",
      "\u001b[0;32m/opt/anaconda/anaconda3/lib/python3.6/site-packages/pandas/core/generic.py\u001b[0m in \u001b[0;36mas_matrix\u001b[0;34m(self, columns)\u001b[0m\n\u001b[1;32m   2903\u001b[0m         \u001b[0mpandas\u001b[0m\u001b[0;34m.\u001b[0m\u001b[0mDataFrame\u001b[0m\u001b[0;34m.\u001b[0m\u001b[0mvalues\u001b[0m\u001b[0;34m\u001b[0m\u001b[0m\n\u001b[1;32m   2904\u001b[0m         \"\"\"\n\u001b[0;32m-> 2905\u001b[0;31m         \u001b[0mself\u001b[0m\u001b[0;34m.\u001b[0m\u001b[0m_consolidate_inplace\u001b[0m\u001b[0;34m(\u001b[0m\u001b[0;34m)\u001b[0m\u001b[0;34m\u001b[0m\u001b[0m\n\u001b[0m\u001b[1;32m   2906\u001b[0m         \u001b[0;32mif\u001b[0m \u001b[0mself\u001b[0m\u001b[0;34m.\u001b[0m\u001b[0m_AXIS_REVERSED\u001b[0m\u001b[0;34m:\u001b[0m\u001b[0;34m\u001b[0m\u001b[0m\n\u001b[1;32m   2907\u001b[0m             \u001b[0;32mreturn\u001b[0m \u001b[0mself\u001b[0m\u001b[0;34m.\u001b[0m\u001b[0m_data\u001b[0m\u001b[0;34m.\u001b[0m\u001b[0mas_matrix\u001b[0m\u001b[0;34m(\u001b[0m\u001b[0mcolumns\u001b[0m\u001b[0;34m)\u001b[0m\u001b[0;34m.\u001b[0m\u001b[0mT\u001b[0m\u001b[0;34m\u001b[0m\u001b[0m\n",
      "\u001b[0;31mTypeError\u001b[0m: _consolidate_inplace() missing 1 required positional argument: 'self'"
     ]
    }
   ],
   "source": [
    "features = features.as_matrix(self=features)"
   ]
  },
  {
   "cell_type": "code",
   "execution_count": 95,
   "metadata": {},
   "outputs": [
    {
     "name": "stdout",
     "output_type": "stream",
     "text": [
      "<property object at 0x7fb8748a49f8>\n"
     ]
    }
   ],
   "source": [
    "print (features)"
   ]
  },
  {
   "cell_type": "code",
   "execution_count": null,
   "metadata": {
    "collapsed": true
   },
   "outputs": [],
   "source": []
  }
 ],
 "metadata": {
  "kernelspec": {
   "display_name": "Python 3",
   "language": "python",
   "name": "python3"
  },
  "language_info": {
   "codemirror_mode": {
    "name": "ipython",
    "version": 3
   },
   "file_extension": ".py",
   "mimetype": "text/x-python",
   "name": "python",
   "nbconvert_exporter": "python",
   "pygments_lexer": "ipython3",
   "version": "3.6.0"
  }
 },
 "nbformat": 4,
 "nbformat_minor": 2
}
